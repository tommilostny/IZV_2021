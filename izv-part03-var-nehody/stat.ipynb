{
 "cells": [
  {
   "cell_type": "code",
   "execution_count": null,
   "metadata": {},
   "outputs": [],
   "source": [
    "from IPython.display import display\n",
    "import matplotlib.pyplot as plt\n",
    "import pandas as pd\n",
    "import scipy.stats as stats\n",
    "import seaborn as sns"
   ]
  },
  {
   "cell_type": "code",
   "execution_count": null,
   "metadata": {},
   "outputs": [],
   "source": [
    "df = pd.read_pickle(\"accidents.pkl.gz\")\n",
    "df"
   ]
  },
  {
   "cell_type": "markdown",
   "metadata": {},
   "source": [
    "# Hypotéza 1:\n",
    "\n",
    "Na silnicích první třídy se při nehodách umíralo se stejnou pravděpodobností jako dálnicích.\n",
    "\n",
    "K ověření hypotézy využijte 𝜒<sup>2</sup> test s tím, že také určíte, jestli nehody na silnicích 1. třídy\n",
    "vedly častěji či méně často k fatální nehodě. V tom vám může pomoct “expected” výstup 𝜒<sup>2</sup>\n",
    "testu.\n",
    "\n",
    "Nerozlišujte počet následků, ale pouze nehody, kde došlo k jednomu a více úmrtí\n",
    "(p13a > 0).\n"
   ]
  },
  {
   "cell_type": "code",
   "execution_count": null,
   "metadata": {},
   "outputs": [],
   "source": [
    "# Výbět nehod, kde došlo k jednomu nebo více úmrtí\n",
    "dfh1 = df[df[\"p13a\"] > 0].copy()\n",
    "\n",
    "# Výběr silnic 1. třídy do nového dataframe\n",
    "dfh1_1stclass = dfh1[dfh1[\"p36\"] == 1].copy()\n",
    "\n",
    "# Výběr dálnic do nového dataframe\n",
    "dfh1_highway = dfh1[dfh1[\"p36\"] == 0]\n",
    "\n",
    "display(dfh1_1stclass)\n",
    "display(dfh1_highway)"
   ]
  }
 ],
 "metadata": {
  "interpreter": {
   "hash": "e7370f93d1d0cde622a1f8e1c04877d8463912d04d973331ad4851f04de6915a"
  },
  "kernelspec": {
   "display_name": "Python 3.8.10 64-bit",
   "language": "python",
   "name": "python3"
  },
  "language_info": {
   "codemirror_mode": {
    "name": "ipython",
    "version": 3
   },
   "file_extension": ".py",
   "mimetype": "text/x-python",
   "name": "python",
   "nbconvert_exporter": "python",
   "pygments_lexer": "ipython3",
   "version": "3.8.10"
  },
  "orig_nbformat": 4
 },
 "nbformat": 4,
 "nbformat_minor": 2
}
