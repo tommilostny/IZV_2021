{
 "cells": [
  {
   "cell_type": "code",
   "execution_count": null,
   "metadata": {},
   "outputs": [],
   "source": [
    "from IPython.display import display\n",
    "import matplotlib.pyplot as plt\n",
    "import pandas as pd\n",
    "import scipy.stats as stats\n",
    "import seaborn as sns"
   ]
  },
  {
   "cell_type": "code",
   "execution_count": null,
   "metadata": {},
   "outputs": [],
   "source": [
    "# Načtení dat\n",
    "df = pd.read_pickle(\"accidents.pkl.gz\")\n",
    "# df"
   ]
  },
  {
   "cell_type": "markdown",
   "metadata": {},
   "source": [
    "---\n",
    "\n",
    "# Hypotéza 1:\n",
    "\n",
    "Na silnicích první třídy se při nehodách umíralo se stejnou pravděpodobností jako dálnicích.\n",
    "\n",
    "K ověření hypotézy využijte 𝜒<sup>2</sup> test s tím, že také určíte, jestli nehody na silnicích 1. třídy\n",
    "vedly častěji či méně často k fatální nehodě. V tom vám může pomoct “expected” výstup 𝜒<sup>2</sup>\n",
    "testu.\n",
    "\n",
    "Nerozlišujte počet následků, ale pouze nehody, kde došlo k jednomu a více úmrtí\n",
    "(p13a > 0).\n"
   ]
  },
  {
   "cell_type": "markdown",
   "metadata": {},
   "source": [
    "---\n",
    "\n",
    "Vytvoříme kopii dataframe pro testování této hypotézy se sloupci s nimiž pracujeme dále. "
   ]
  },
  {
   "cell_type": "code",
   "execution_count": null,
   "metadata": {},
   "outputs": [],
   "source": [
    "# Výběr p36 (druhů silnic) + p13a (úmrtí) do nového dataframe\n",
    "dfh1 = df[[\"p13a\", \"p36\"]].copy()"
   ]
  },
  {
   "cell_type": "markdown",
   "metadata": {},
   "source": [
    "Přidáme boolean sloupce **death** (došlo alespoň k jednomu úmrtí?), **1stclass** (jedná se o silnici 1. třídy?) a **highway** (jedná se o dálnici?)."
   ]
  },
  {
   "cell_type": "code",
   "execution_count": null,
   "metadata": {},
   "outputs": [],
   "source": [
    "# Označení, zda u nehody došlo k jednomu nebo více úmrtí\n",
    "dfh1[\"death\"] = dfh1[\"p13a\"] > 0\n",
    "\n",
    "# Označení silnic 1. třídy a dálnic pro výpočet pravděpodobností\n",
    "dfh1[\"1stclass\"] = dfh1[\"p36\"] == 1\n",
    "dfh1[\"highway\"] = dfh1[\"p36\"] == 0"
   ]
  },
  {
   "cell_type": "markdown",
   "metadata": {},
   "source": [
    "Nové sloupce použijeme pro 𝜒<sup>2</sup> test, který uděláme jednotlivě pro dálnice a silnice 1. třídy.\n",
    "\n",
    "1. Vytvoříme kontigenční tabulky pro vztah mezi typem silnice a úmrtí na ní.\n",
    "1. Vypočteme ``chi2_contingency`` a uložíme si výsledné \"expected\" tabulky."
   ]
  },
  {
   "cell_type": "code",
   "execution_count": null,
   "metadata": {},
   "outputs": [],
   "source": [
    "# Výpočet kontigenčních tabulek\n",
    "ct_1stclass = pd.crosstab(dfh1[\"death\"], dfh1[\"1stclass\"])\n",
    "ct_highway = pd.crosstab(dfh1[\"death\"], dfh1[\"highway\"])\n",
    "\n",
    "# Výpočty pravděpodobností\n",
    "expected_highway = stats.chi2_contingency(ct_highway)[3]\n",
    "expected_1stclass = stats.chi2_contingency(ct_1stclass)[3]\n",
    "\n",
    "print(f\"Silnice 1. třídy:\\n\\tObserved:\\n{ct_1stclass}\\n\\n\\tExpected:\\n{expected_1stclass}\\n\\n\")\n",
    "print(f\"Dálnice:\\n\\tObserved:\\n{ct_highway}\\n\\n\\tExpected:\\n{expected_highway}\")"
   ]
  },
  {
   "cell_type": "markdown",
   "metadata": {},
   "source": [
    "Na základě expected výsledků vypočítáme pravděpodobnosti.\n",
    "\n",
    "Počítáme se sloupcem, kde daný typ silnice má hodnotu ``True`` a výsledná pravděpodobnost je tedy **``počet_úmrtí / celkový_počet_nehod``** na daném typu silnice (dálnice nebo silnice 1. třídy)."
   ]
  },
  {
   "cell_type": "code",
   "execution_count": null,
   "metadata": {},
   "outputs": [],
   "source": [
    "death_probability_1stclass = expected_1stclass[1, 1] / (expected_1stclass[1, 1] + expected_1stclass[0, 1])\n",
    "\n",
    "death_probability_highway = expected_highway[1, 1] / (expected_highway[1, 1] + expected_highway[0, 1])\n",
    "\n",
    "print(f\"Pravděpodobnost úmrtí na silnici 1. třídy: {death_probability_1stclass}\")\n",
    "print(f\"Pravděpodobnost úmrtí na dálnici: {death_probability_highway}\")"
   ]
  },
  {
   "cell_type": "markdown",
   "metadata": {},
   "source": [
    "Výsledek na základě \"expected\" výsledků nám ukazuje, že pravděpodobnost úmrtí na dálnici je stejná jako pravděpodobnost úmrtí na silnici 1. třídy."
   ]
  },
  {
   "cell_type": "markdown",
   "metadata": {},
   "source": [
    "---\n",
    "\n",
    "# Hypotéza 2\n",
    "\n",
    "Při nehodách vozidel značky Škoda je škoda na vozidle nižší než při nehodách vozidel Audi.\n",
    "\n",
    "Využijte vhodný test a určete, zda je škoda na vozidlech vyšší či nižší a zda je tato vlastnost\n",
    "na požadované hladině významnosti.\n"
   ]
  },
  {
   "cell_type": "markdown",
   "metadata": {},
   "source": [
    "---\n",
    "\n",
    "Nejdříve si oddělíme do sérií škodu na vozidle (sloupec *p53*) pro dané výrobce (**Škoda** => *39*, **Audi** => *2*)."
   ]
  },
  {
   "cell_type": "code",
   "execution_count": null,
   "metadata": {},
   "outputs": [],
   "source": [
    "dfh2 = df[[\"p53\", \"p45a\"]].copy()\n",
    "\n",
    "# Získání škod (sloupec p53) pro dané výrobce: Škoda (39), Audi (2)\n",
    "damage_skoda = dfh2[dfh2[\"p45a\"] == 39][\"p53\"]\n",
    "damage_audi = dfh2[dfh2[\"p45a\"] == 2][\"p53\"]"
   ]
  },
  {
   "cell_type": "markdown",
   "metadata": {},
   "source": [
    "Nezávislým **párovým T-testem** porovnáme série škod na vozidlech."
   ]
  },
  {
   "cell_type": "code",
   "execution_count": null,
   "metadata": {},
   "outputs": [],
   "source": [
    "t_skoda, p_skoda = stats.ttest_ind(damage_skoda, damage_audi, equal_var=False)\n",
    "\n",
    "display(f\"T-test Škoda vs Audi: {t_skoda}, p-value: {p_skoda}\")"
   ]
  },
  {
   "cell_type": "markdown",
   "metadata": {},
   "source": [
    "Dle získaného výsledku T-testu jsou škody na vozidlech značky **Škoda** statisticky významně *menší než* škody na vozidlech **Audi**."
   ]
  }
 ],
 "metadata": {
  "interpreter": {
   "hash": "e7370f93d1d0cde622a1f8e1c04877d8463912d04d973331ad4851f04de6915a"
  },
  "kernelspec": {
   "display_name": "Python 3.8.10 64-bit",
   "language": "python",
   "name": "python3"
  },
  "language_info": {
   "codemirror_mode": {
    "name": "ipython",
    "version": 3
   },
   "file_extension": ".py",
   "mimetype": "text/x-python",
   "name": "python",
   "nbconvert_exporter": "python",
   "pygments_lexer": "ipython3",
   "version": "3.8.10"
  },
  "orig_nbformat": 4
 },
 "nbformat": 4,
 "nbformat_minor": 2
}
